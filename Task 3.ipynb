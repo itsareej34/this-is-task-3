{
 "cells": [
  {
   "cell_type": "code",
   "execution_count": 3,
   "id": "4f70f0cb",
   "metadata": {},
   "outputs": [],
   "source": [
    "import pandas as pd"
   ]
  },
  {
   "cell_type": "code",
   "execution_count": 12,
   "id": "858b2dc7",
   "metadata": {},
   "outputs": [],
   "source": [
    "df = pd.read_csv(\"hcps-by-region-and-type-2019-2020.csv\")"
   ]
  },
  {
   "cell_type": "code",
   "execution_count": 13,
   "id": "71785e86",
   "metadata": {},
   "outputs": [
    {
     "data": {
      "text/html": [
       "<div>\n",
       "<style scoped>\n",
       "    .dataframe tbody tr th:only-of-type {\n",
       "        vertical-align: middle;\n",
       "    }\n",
       "\n",
       "    .dataframe tbody tr th {\n",
       "        vertical-align: top;\n",
       "    }\n",
       "\n",
       "    .dataframe thead th {\n",
       "        text-align: right;\n",
       "    }\n",
       "</style>\n",
       "<table border=\"1\" class=\"dataframe\">\n",
       "  <thead>\n",
       "    <tr style=\"text-align: right;\">\n",
       "      <th></th>\n",
       "      <th>Service</th>\n",
       "      <th>2019</th>\n",
       "      <th>2020</th>\n",
       "      <th>2021</th>\n",
       "    </tr>\n",
       "  </thead>\n",
       "  <tbody>\n",
       "    <tr>\n",
       "      <th>0</th>\n",
       "      <td>Inpatients Admissions</td>\n",
       "      <td>27768</td>\n",
       "      <td>24775</td>\n",
       "      <td>25104</td>\n",
       "    </tr>\n",
       "    <tr>\n",
       "      <th>1</th>\n",
       "      <td>Outpatient Total Visits</td>\n",
       "      <td>517785</td>\n",
       "      <td>328038</td>\n",
       "      <td>428259</td>\n",
       "    </tr>\n",
       "    <tr>\n",
       "      <th>2</th>\n",
       "      <td>Outpatients New visits</td>\n",
       "      <td>138917</td>\n",
       "      <td>75715</td>\n",
       "      <td>11352</td>\n",
       "    </tr>\n",
       "    <tr>\n",
       "      <th>3</th>\n",
       "      <td>Medical Imaging Cases</td>\n",
       "      <td>215349</td>\n",
       "      <td>194831</td>\n",
       "      <td>235507</td>\n",
       "    </tr>\n",
       "    <tr>\n",
       "      <th>4</th>\n",
       "      <td>Total Medications Dispensed</td>\n",
       "      <td>6180407</td>\n",
       "      <td>6859789</td>\n",
       "      <td>3063275</td>\n",
       "    </tr>\n",
       "    <tr>\n",
       "      <th>5</th>\n",
       "      <td>Total Number of Patient Accepted at Referral</td>\n",
       "      <td>72333</td>\n",
       "      <td>51364</td>\n",
       "      <td>92542</td>\n",
       "    </tr>\n",
       "    <tr>\n",
       "      <th>6</th>\n",
       "      <td>Home Health Care Visits</td>\n",
       "      <td>30285</td>\n",
       "      <td>36806</td>\n",
       "      <td>53354</td>\n",
       "    </tr>\n",
       "  </tbody>\n",
       "</table>\n",
       "</div>"
      ],
      "text/plain": [
       "                                         Service     2019     2020     2021\n",
       "0                          Inpatients Admissions    27768    24775    25104\n",
       "1                       Outpatient Total Visits    517785   328038   428259\n",
       "2                         Outpatients New visits   138917    75715    11352\n",
       "3                          Medical Imaging Cases   215349   194831   235507\n",
       "4                    Total Medications Dispensed  6180407  6859789  3063275\n",
       "5  Total Number of Patient Accepted at Referral     72333    51364    92542\n",
       "6                        Home Health Care Visits    30285    36806    53354"
      ]
     },
     "execution_count": 13,
     "metadata": {},
     "output_type": "execute_result"
    }
   ],
   "source": [
    "df"
   ]
  },
  {
   "cell_type": "code",
   "execution_count": 14,
   "id": "f3fd17f6",
   "metadata": {},
   "outputs": [
    {
     "name": "stdout",
     "output_type": "stream",
     "text": [
      "Service    object\n",
      "2019        int64\n",
      "2020        int64\n",
      "2021        int64\n",
      "dtype: object\n"
     ]
    }
   ],
   "source": [
    "print(df.dtypes)"
   ]
  },
  {
   "cell_type": "code",
   "execution_count": 20,
   "id": "c247cfd7",
   "metadata": {},
   "outputs": [],
   "source": [
    "df[\"2020\"]= df[\"2020\"] .astype(float)"
   ]
  },
  {
   "cell_type": "code",
   "execution_count": 21,
   "id": "cd202790",
   "metadata": {},
   "outputs": [
    {
     "data": {
      "text/html": [
       "<div>\n",
       "<style scoped>\n",
       "    .dataframe tbody tr th:only-of-type {\n",
       "        vertical-align: middle;\n",
       "    }\n",
       "\n",
       "    .dataframe tbody tr th {\n",
       "        vertical-align: top;\n",
       "    }\n",
       "\n",
       "    .dataframe thead th {\n",
       "        text-align: right;\n",
       "    }\n",
       "</style>\n",
       "<table border=\"1\" class=\"dataframe\">\n",
       "  <thead>\n",
       "    <tr style=\"text-align: right;\">\n",
       "      <th></th>\n",
       "      <th>Service</th>\n",
       "      <th>2019</th>\n",
       "      <th>2020</th>\n",
       "      <th>2021</th>\n",
       "    </tr>\n",
       "  </thead>\n",
       "  <tbody>\n",
       "    <tr>\n",
       "      <th>0</th>\n",
       "      <td>Inpatients Admissions</td>\n",
       "      <td>27768</td>\n",
       "      <td>24775.0</td>\n",
       "      <td>25104</td>\n",
       "    </tr>\n",
       "    <tr>\n",
       "      <th>1</th>\n",
       "      <td>Outpatient Total Visits</td>\n",
       "      <td>517785</td>\n",
       "      <td>328038.0</td>\n",
       "      <td>428259</td>\n",
       "    </tr>\n",
       "    <tr>\n",
       "      <th>2</th>\n",
       "      <td>Outpatients New visits</td>\n",
       "      <td>138917</td>\n",
       "      <td>75715.0</td>\n",
       "      <td>11352</td>\n",
       "    </tr>\n",
       "    <tr>\n",
       "      <th>3</th>\n",
       "      <td>Medical Imaging Cases</td>\n",
       "      <td>215349</td>\n",
       "      <td>194831.0</td>\n",
       "      <td>235507</td>\n",
       "    </tr>\n",
       "    <tr>\n",
       "      <th>4</th>\n",
       "      <td>Total Medications Dispensed</td>\n",
       "      <td>6180407</td>\n",
       "      <td>6859789.0</td>\n",
       "      <td>3063275</td>\n",
       "    </tr>\n",
       "    <tr>\n",
       "      <th>5</th>\n",
       "      <td>Total Number of Patient Accepted at Referral</td>\n",
       "      <td>72333</td>\n",
       "      <td>51364.0</td>\n",
       "      <td>92542</td>\n",
       "    </tr>\n",
       "    <tr>\n",
       "      <th>6</th>\n",
       "      <td>Home Health Care Visits</td>\n",
       "      <td>30285</td>\n",
       "      <td>36806.0</td>\n",
       "      <td>53354</td>\n",
       "    </tr>\n",
       "  </tbody>\n",
       "</table>\n",
       "</div>"
      ],
      "text/plain": [
       "                                         Service     2019       2020     2021\n",
       "0                          Inpatients Admissions    27768    24775.0    25104\n",
       "1                       Outpatient Total Visits    517785   328038.0   428259\n",
       "2                         Outpatients New visits   138917    75715.0    11352\n",
       "3                          Medical Imaging Cases   215349   194831.0   235507\n",
       "4                    Total Medications Dispensed  6180407  6859789.0  3063275\n",
       "5  Total Number of Patient Accepted at Referral     72333    51364.0    92542\n",
       "6                        Home Health Care Visits    30285    36806.0    53354"
      ]
     },
     "execution_count": 21,
     "metadata": {},
     "output_type": "execute_result"
    }
   ],
   "source": [
    "df"
   ]
  },
  {
   "cell_type": "code",
   "execution_count": 22,
   "id": "0d9dd672",
   "metadata": {},
   "outputs": [
    {
     "data": {
      "text/plain": [
       "Service     object\n",
       "2019         int64\n",
       "2020       float64\n",
       "2021         int64\n",
       "dtype: object"
      ]
     },
     "execution_count": 22,
     "metadata": {},
     "output_type": "execute_result"
    }
   ],
   "source": [
    "df.dtypes"
   ]
  }
 ],
 "metadata": {
  "kernelspec": {
   "display_name": "Python 3 (ipykernel)",
   "language": "python",
   "name": "python3"
  },
  "language_info": {
   "codemirror_mode": {
    "name": "ipython",
    "version": 3
   },
   "file_extension": ".py",
   "mimetype": "text/x-python",
   "name": "python",
   "nbconvert_exporter": "python",
   "pygments_lexer": "ipython3",
   "version": "3.9.12"
  }
 },
 "nbformat": 4,
 "nbformat_minor": 5
}
